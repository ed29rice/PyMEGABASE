{
  "nbformat": 4,
  "nbformat_minor": 0,
  "metadata": {
    "colab": {
      "name": "PyMEGABASE_save_GD_cell_line_selec.ipynb",
      "provenance": [],
      "collapsed_sections": [
        "187-qhbnxB2y"
      ]
    },
    "kernelspec": {
      "name": "python3",
      "display_name": "Python 3"
    },
    "language_info": {
      "name": "python"
    }
  },
  "cells": [
    {
      "cell_type": "code",
      "source": [
        "# Install dependencies\n",
        "import os, time\n",
        "start_t=time.time()\n",
        "start_to=time.time()\n",
        "os.system('pip install -q pydca')\n",
        "os.system('pip install -q pyBigWig')\n",
        "os.system('pip install -q numpy -U')"
      ],
      "metadata": {
        "id": "Guor--6K3uEh"
      },
      "execution_count": null,
      "outputs": []
    },
    {
      "cell_type": "code",
      "source": [
        "#Download the compartment information from PyMEGABASE github\n",
        "!git clone https://github.com/ed29rice/PyMEGABASE.git"
      ],
      "metadata": {
        "id": "e94UtV9wEiuG"
      },
      "execution_count": null,
      "outputs": []
    },
    {
      "cell_type": "code",
      "source": [
        "print('Done installing and retrieving PyMEGABASE')\n",
        "print('Enlapsed time:',time.time()-start_t)\n",
        "start_t=time.time()"
      ],
      "metadata": {
        "id": "y4e3ipGsNutP"
      },
      "execution_count": null,
      "outputs": []
    },
    {
      "cell_type": "code",
      "source": [
        "import matplotlib.pyplot as plt\n",
        "import numpy as np\n",
        "import PyMEGABASE.PyMEGABASE as PYM\n",
        "import PyMEGABASE.drop_down as dp\n",
        "import urllib.parse"
      ],
      "metadata": {
        "id": "Ssbnh0l1rfzB"
      },
      "execution_count": null,
      "outputs": []
    },
    {
      "cell_type": "code",
      "source": [
        "#First let's look for the desired cell line in the ENCODE database\n",
        "cell_lines_menu=dp.cell_lines(assembly='hg19', signal_type='signal p-value',\n",
        "                            histones=True,tf=False,small_rna=True,total_rna=True)\n"
      ],
      "metadata": {
        "id": "rY_Ig3wttqTX"
      },
      "execution_count": null,
      "outputs": []
    },
    {
      "cell_type": "code",
      "source": [
        "print('Please select one cell line from the drop down menu')\n",
        "cell_lines_menu.menu"
      ],
      "metadata": {
        "id": "pXjY0VF5xR_q"
      },
      "execution_count": null,
      "outputs": []
    },
    {
      "cell_type": "code",
      "source": [
        "#Run this cell after chosing the the cell line above\n",
        "cell_line=cell_lines_menu.menu.value\n",
        "print('You selected the following cell line:')\n",
        "print(cell_line)\n",
        "#Translate name of cell line to url version of the name\n",
        "cell_line_url_name=urllib.parse.quote_plus(cell_line)"
      ],
      "metadata": {
        "id": "aoYU6cPBxwBm"
      },
      "execution_count": null,
      "outputs": []
    },
    {
      "cell_type": "code",
      "source": [
        "#Initialize PyMEGABASE \n",
        "pym=PYM.PyMEGABASE_extended(cell_line=cell_line_url_name, assembly='hg19', signal_type='signal p-value',\n",
        "                            ref_cell_line_path='training',types_path='PyMEGABASE/types',\n",
        "                            histones=True,tf=False,atac=False,small_rna=True,total_rna=True) "
      ],
      "metadata": {
        "id": "QrXBUGIlfE1M"
      },
      "execution_count": null,
      "outputs": []
    },
    {
      "cell_type": "code",
      "source": [
        "#Download data for the selected cell line from ENCODE\n",
        "pym.download_and_process_cell_line_data(nproc=5)"
      ],
      "metadata": {
        "id": "hcAAtIeKfGu3"
      },
      "execution_count": null,
      "outputs": []
    },
    {
      "cell_type": "code",
      "source": [
        "#Download data for the reference cell line (GM12878) from ENCODE\n",
        "pym.download_and_process_ref_data(nproc=5)"
      ],
      "metadata": {
        "id": "wR66maTdfIZe"
      },
      "execution_count": null,
      "outputs": []
    },
    {
      "cell_type": "code",
      "source": [
        "print('Done downloading data')\n",
        "print('Enlapsed time:',time.time()-start_t)\n",
        "start_t=time.time()"
      ],
      "metadata": {
        "id": "0a_RQqXoOgGT"
      },
      "execution_count": null,
      "outputs": []
    },
    {
      "cell_type": "code",
      "source": [
        "#Preprocess the downloaded data for tranining\n",
        "pym.training_set_up()"
      ],
      "metadata": {
        "id": "x2jl0lv7fL5n"
      },
      "execution_count": null,
      "outputs": []
    },
    {
      "cell_type": "code",
      "source": [
        "#Perform the training using the downloaded reference data\n",
        "pym.training(nproc=5)"
      ],
      "metadata": {
        "id": "oY_-mqylfNH8"
      },
      "execution_count": null,
      "outputs": []
    },
    {
      "cell_type": "code",
      "source": [
        "print('Done training')\n",
        "print('Enlapsed time:',time.time()-start_t)\n",
        "start_t=time.time()"
      ],
      "metadata": {
        "id": "4UKZauGbOkZu"
      },
      "execution_count": null,
      "outputs": []
    },
    {
      "cell_type": "code",
      "source": [
        "#Choose the chromosome you want to get the prediction\n",
        "chr=2\n",
        "#Predict\n",
        "types_pyME=pym.prediction(chr=2)\n",
        "\n",
        "#Show the prediction results\n",
        "x=[i for i in range(1,len(types_pyME)+1)]\n",
        "plt.figure(figsize=(20,5))\n",
        "plt.scatter(np.array(x)*50000/10**6,types_pyME,s=5,c=types_pyME, cmap=plt.get_cmap('Set1'))\n",
        "plt.yticks(np.array([0,1,2,3,4]),['A1','A2','B1','B2','B3'])\n",
        "plt.ylim([-0.4,4.2])\n",
        "\n",
        "plt.figure(figsize=(20,5))\n",
        "plt.scatter(np.array(x)*50000/10**6,types_pyME,s=100,marker='s',c=types_pyME, cmap=plt.get_cmap('Set1'))\n",
        "plt.yticks(np.array([0,1,2,3,4]),['A1','A2','B1','B2','B3'])\n",
        "plt.ylim([-0.4,4.2])\n",
        "plt.xlim([71.7,73.2])\n",
        "\n",
        "fig, axs = plt.subplots(1, 2,figsize=(20,8))\n",
        "type_list, counts = np.unique(types_pyME,return_counts=True)\n",
        "axs[0].bar(type_list,counts/len(types_pyME))\n",
        "preAB=np.copy(types_pyME)\n",
        "preAB[np.where((types_pyME==0) | (types_pyME==1))]=1\n",
        "preAB[np.where((types_pyME==2) | (types_pyME==3) | (types_pyME==4))]=0\n",
        "type_list, counts = np.unique(preAB,return_counts=True)\n",
        "axs[1].bar(['B','A','NA'],counts/len(preAB))"
      ],
      "metadata": {
        "id": "uzS0E_8KfOaS"
      },
      "execution_count": null,
      "outputs": []
    },
    {
      "cell_type": "code",
      "source": [
        "#Predict and save the data \n",
        "TYPE_TO_INT = {'A1':0,'A2':1,'B1':2,'B2':3,'B3':4,'B4':5,'NA':6}\n",
        "INT_TO_TYPE = {TYPE_TO_INT[k]:k for k in TYPE_TO_INT.keys()}\n",
        "\n",
        "#Go over chromosomes\n",
        "for chr in range(1,23):\n",
        "    types_pyME=pym.prediction(chr)\n",
        "    types_pyME_letters=np.array(list(map(INT_TO_TYPE.get, types_pyME)))\n",
        "    #Save data\n",
        "    with open('chr'+str(chr)+'_beads.txt','w',encoding = 'utf-8') as f:\n",
        "        for i in range(len(types_pyME)):\n",
        "            f.write(\"{} {}\\n\".format(i+1,types_pyME_letters[i]))\n",
        "\n",
        "types_pyME=pym.prediction_X()\n",
        "types_pyME_letters=np.array(list(map(INT_TO_TYPE.get, types_pyME)))\n",
        "#Save data\n",
        "with open('chr'+str(chr)+'_beads.txt','w',encoding = 'utf-8') as f:\n",
        "    for i in range(len(types_pyME)):\n",
        "        f.write(\"{} {}\\n\".format(i+1,types_pyME_letters[i]))\n",
        "\n",
        "\n",
        "print('Done predicting')\n",
        "print('Enlapsed time:',time.time()-start_t)\n"
      ],
      "metadata": {
        "id": "laCmSOVgPAVe"
      },
      "execution_count": null,
      "outputs": []
    },
    {
      "cell_type": "markdown",
      "source": [
        "# If you want to save your results on Google Drive run the next cell"
      ],
      "metadata": {
        "id": "AgV8Nsh32ZG3"
      }
    },
    {
      "cell_type": "code",
      "source": [
        "# Import PyDrive and associated libraries.\n",
        "# This only needs to be done once in a notebook.\n",
        "from pydrive.auth import GoogleAuth\n",
        "from pydrive.drive import GoogleDrive\n",
        "from google.colab import auth\n",
        "from oauth2client.client import GoogleCredentials\n",
        "\n",
        "# Authenticate and create the PyDrive client.\n",
        "# This only needs to be done once in a notebook.\n",
        "auth.authenticate_user()\n",
        "gauth = GoogleAuth()\n",
        "gauth.credentials = GoogleCredentials.get_application_default()\n",
        "drive = GoogleDrive(gauth)\n",
        "\n",
        "drive_folder_name='PyMEGABASE_'+pym.cell_line+'_'+pym.assembly\n",
        "gfolder = drive.CreateFile({'title':drive_folder_name,'mimeType': 'application/vnd.google-apps.folder'})\n",
        "gfolder.Upload()\n",
        "\n",
        "upload_file_list=['chr'+str(chr)+'_beads.txt' for chr in range(1,23)]\n",
        "for upload_file in upload_file_list:\n",
        "\tgfile = drive.CreateFile({'parents': [{'id': gfolder.get('id')}]})\n",
        "\t# Read file and set it as the content of this instance.\n",
        "\tgfile.SetContentFile(upload_file)\n",
        "\tgfile.Upload() # Upload the file."
      ],
      "metadata": {
        "id": "uzpEXg6Cq9qw"
      },
      "execution_count": null,
      "outputs": []
    },
    {
      "cell_type": "code",
      "source": [
        "print('Done with everything')\n",
        "print('Enlapsed time:',time.time()-start_to)"
      ],
      "metadata": {
        "id": "Zy_lEsl8PUXk"
      },
      "execution_count": null,
      "outputs": []
    },
    {
      "cell_type": "markdown",
      "source": [
        "# Run only if predicting GM12878 - hg19 "
      ],
      "metadata": {
        "id": "187-qhbnxB2y"
      }
    },
    {
      "cell_type": "code",
      "source": [
        "#Define tranlation dictinaries between aminoacids, intensity of Chip-seq signal and \n",
        "TYPE_TO_INT = {'A1':0,'A2':1,'B1':2,'B2':3,'B3':4,'B4':5,'NA':6}\n",
        "\n",
        "INT_TO_TYPE = {TYPE_TO_INT[k]:k for k in TYPE_TO_INT.keys()}\n",
        "count_M=0;count_P=0;c=0;cc=0\n",
        "\n",
        "for chr in range(2,23,2):\n",
        "    print('\\nPredicting chromosome:',chr)\n",
        "    types_pyME=pym.prediction(chr)\n",
        "    types_original=np.loadtxt('./PyMEGABASE/types/chr'+str(chr)+'_beads.txt.original',delimiter=' ',dtype=str)[:,1]\n",
        "    #Translate them into states\n",
        "    int_types_Or=np.array(list(map(TYPE_TO_INT.get, types_original)))\n",
        "    idx=(int_types_Or!=6)\n",
        "    print('Accuracy of PyMEGABASE Rao et al 2014:',np.round(np.sum(types_pyME[idx]==int_types_Or[idx])/len(int_types_Or[idx]),4))\n",
        "    count_P=count_P+np.sum(types_pyME[idx]==int_types_Or[idx])\n",
        "    c=c+np.sum(idx)\n",
        "  \n",
        "print('=====================================================')\n",
        "print('Accuracy of PyMEGABASE across chromosomes:',np.round(count_P/c,4))\n",
        "print('=====================================================')"
      ],
      "metadata": {
        "id": "_ulj1mZPfQ3q"
      },
      "execution_count": null,
      "outputs": []
    },
    {
      "cell_type": "code",
      "source": [
        "chr=2\n",
        "types_pyME=pym.prediction(chr)\n",
        "types_original=np.loadtxt('./PyMEGABASE/types/chr'+str(chr)+'_beads.txt.original',delimiter=' ',dtype=str)[:,1]\n",
        "types_ME=np.loadtxt('./PyMEGABASE/GM12878_Original_MEGABASE/chr'+str(chr)+'_beads.txt',delimiter=' ',dtype=str)[:,1]\n",
        "int_types_Or=np.array(list(map(TYPE_TO_INT.get, types_original)))\n",
        "int_types_ME=np.array(list(map(TYPE_TO_INT.get, types_ME)))\n",
        "\n",
        "idx=(int_types_Or!=6)\n",
        "plt.figure(figsize=(25,7))\n",
        "plt.plot(int_types_Or[idx],'s',markersize=1,label='Rao et al 2014')\n",
        "plt.plot(int_types_ME[idx]-0.1,'s',markersize=1, label='MEGABASE')\n",
        "plt.plot(types_pyME[idx]-0.2,'s',markersize=1, label='PyMEGABASE')\n",
        "plt.yticks(np.array([0,1,2,3,4])-0.1,['A1','A2','B1','B2','B3'])\n",
        "plt.ylim([-0.4,4.2])\n",
        "plt.xlim([0,len(int_types_Or[idx])])\n",
        "plt.legend(loc='upper right')"
      ],
      "metadata": {
        "id": "19o-fDgT0Hnh"
      },
      "execution_count": null,
      "outputs": []
    }
  ]
}