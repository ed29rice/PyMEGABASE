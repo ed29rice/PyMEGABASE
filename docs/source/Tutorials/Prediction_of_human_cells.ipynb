{
  "cells": [
    {
      "attachments": {},
      "cell_type": "markdown",
      "metadata": {},
      "source": [
        "# Prediction of annotations on Human cells"
      ]
    },
    {
      "attachments": {},
      "cell_type": "markdown",
      "metadata": {
        "id": "cA1uVC_X2c7r"
      },
      "source": [
        "## Install dependecies and PyMEGABASE"
      ]
    },
    {
      "cell_type": "code",
      "execution_count": null,
      "metadata": {
        "colab": {
          "base_uri": "https://localhost:8080/"
        },
        "id": "ULJMclFKIRQ4",
        "outputId": "939aaa75-41ef-428c-ccde-cfef6afcf3df"
      },
      "outputs": [],
      "source": [
        "import os\n",
        "os.system('pip install -q glob2==0.7 requests pytest-shutil==1.7.0  pyBigWig==0.3.18 urllib3==1.26.14 tqdm==4.64.1 joblib==1.2.0 ipywidgets==8.0.4 biopython')\n",
        "os.system('pip install pydca --no-deps')\n",
        "os.system('pip install -i https://test.pypi.org/pypi/ --extra-index-url https://pypi.org/simple PyMEGABASE==1.0.13 --no-deps')\n"
      ]
    },
    {
      "attachments": {},
      "cell_type": "markdown",
      "metadata": {
        "id": "luQvmUaqJz5b"
      },
      "source": [
        "Here we chose ovary sample as the target cell \n",
        "\n",
        "Only using histone modification Chip-Seq data"
      ]
    },
    {
      "cell_type": "code",
      "execution_count": 2,
      "metadata": {
        "id": "KiU7CC9zK1JA"
      },
      "outputs": [],
      "source": [
        "import PyMEGABASE as PYMB"
      ]
    },
    {
      "cell_type": "code",
      "execution_count": 3,
      "metadata": {
        "colab": {
          "base_uri": "https://localhost:8080/"
        },
        "id": "OwRtRplRJUvp",
        "outputId": "6b853d1a-4a5e-4dea-94c0-935a9c63beaa"
      },
      "outputs": [
        {
          "name": "stdout",
          "output_type": "stream",
          "text": [
            "    ****************************************************************************************    \n",
            "       **** *** *** *** *** *** *** *** PyMEGABASE-1.0.0 *** *** *** *** *** *** *** ****       \n",
            "       **** *** *** *** *** *** *** *** PyMEGABASE-1.0.0 *** *** *** *** *** *** *** ****       \n",
            "       **** *** *** *** *** *** *** *** PyMEGABASE-1.0.0 *** *** *** *** *** *** *** ****       \n",
            "    ****************************************************************************************    \n",
            "\n",
            "              The PyMEGABASE class performs the prediction of genomic annotations               \n",
            "              based on 1D data tracks of Chip-Seq and RNA-Seq. The input data is                \n",
            "                                obtained from ENCODE data base.                                 \n",
            "                          PyMEGABASE description is described in: TBD                           \n",
            "\n",
            "        This package is the product of contributions from a number of people, including:        \n",
            "                  Esteban Dodero-Rojas, Antonio Oliveira, Vinícius Contessoto,                  \n",
            "                                 Ryan Cheng, and, Jose Onuchic                                  \n",
            "                                        Rice University                                         \n",
            "\n",
            "    ****************************************************************************************    \n",
            "Selected cell line to predict: ovary\n",
            "Selected assembly: GRCh38\n",
            "Selected signal type: signal p-value\n",
            "Selected organism: human\n"
          ]
        }
      ],
      "source": [
        "#Initialize PyMEGABASE \n",
        "pymb=PYMB.PyMEGABASE(cell_line='ovary', assembly='GRCh38', organism='human',\n",
        "                    signal_type='signal p-value',ref_cell_line_path='training_cell_line',\n",
        "                    histones=True,tf=True,small_rna=True,total_rna=True,n_states=10,res=50) "
      ]
    },
    {
      "cell_type": "code",
      "execution_count": 4,
      "metadata": {
        "colab": {
          "base_uri": "https://localhost:8080/"
        },
        "id": "o0o6UR_ZJwgt",
        "outputId": "fb99b1fa-427f-4796-c1c8-bb2bf31b8cc9"
      },
      "outputs": [
        {
          "name": "stdout",
          "output_type": "stream",
          "text": [
            "Number of replicas: 46\n"
          ]
        },
        {
          "name": "stderr",
          "output_type": "stream",
          "text": [
            "Process replicas: 100%|████████████████████████████████████████| 46/46 [06:06<00:00,  7.98s/it]\n"
          ]
        },
        {
          "name": "stdout",
          "output_type": "stream",
          "text": [
            "Experiments found in ENCODE for the selected cell line:\n",
            "CTCF\n",
            "EP300\n",
            "H3K27ac\n",
            "H3K27me3\n",
            "H3K36me3\n",
            "H3K4me1\n",
            "H3K4me3\n",
            "H3K9me3\n",
            "POLR2A\n",
            "minus-small-RNA-seq\n",
            "minus-total-RNA-seq\n",
            "plus-small-RNA-seq\n",
            "plus-total-RNA-seq\n",
            "Predictions would use:  13  experiments\n"
          ]
        }
      ],
      "source": [
        "#Download data for the selected cell line from ENCODE\n",
        "pymb.download_and_process_cell_line_data(nproc=4)"
      ]
    },
    {
      "cell_type": "code",
      "execution_count": 5,
      "metadata": {
        "colab": {
          "base_uri": "https://localhost:8080/"
        },
        "id": "zc5scgXOKZAh",
        "outputId": "2cfd96f2-6256-4127-8459-acadc139637d"
      },
      "outputs": [
        {
          "name": "stdout",
          "output_type": "stream",
          "text": [
            "Number of replicas: 125\n"
          ]
        },
        {
          "name": "stderr",
          "output_type": "stream",
          "text": [
            "Process replicas: 100%|████████████████████████████████████████| 125/125 [17:08<00:00,  8.23s/it]\n"
          ]
        },
        {
          "name": "stdout",
          "output_type": "stream",
          "text": [
            "Prediction will use:\n",
            "CTCF\n",
            "EP300\n",
            "H3K27ac\n",
            "H3K27me3\n",
            "H3K36me3\n",
            "H3K4me1\n",
            "H3K4me3\n",
            "H3K9me3\n",
            "POLR2A\n",
            "minus-small-RNA-seq\n",
            "minus-total-RNA-seq\n",
            "plus-small-RNA-seq\n",
            "plus-total-RNA-seq\n"
          ]
        }
      ],
      "source": [
        "#Download data for the reference cell line (GM12878) from ENCODE\n",
        "pymb.download_and_process_ref_data(nproc=4)"
      ]
    },
    {
      "cell_type": "code",
      "execution_count": 6,
      "metadata": {
        "colab": {
          "base_uri": "https://localhost:8080/"
        },
        "id": "DqMI5PrIKZC8",
        "outputId": "3b669f62-5c7d-4204-c822-f1d805f79de7"
      },
      "outputs": [
        {
          "name": "stdout",
          "output_type": "stream",
          "text": [
            "Not using EP300  to predict\n",
            "Not using H3K27me3  to predict\n",
            "Not using H3K36me3  to predict\n",
            "Not using H3K9me3  to predict\n",
            "Not using POLR2A  to predict\n",
            "Number of suitable experiments for prediction: 8\n",
            "To train the following experiments are used:\n",
            "CTCF\n",
            "H3K27ac\n",
            "H3K4me1\n",
            "H3K4me3\n",
            "minus-small-RNA-seq\n",
            "minus-total-RNA-seq\n",
            "plus-small-RNA-seq\n",
            "plus-total-RNA-seq\n"
          ]
        }
      ],
      "source": [
        "#Preprocess the downloaded data for tranining, filtering experiments with signal-to-noise ration different from GM12878-hg19 (training set)\n",
        "pymb.training_set_up()"
      ]
    },
    {
      "cell_type": "code",
      "execution_count": 7,
      "metadata": {
        "colab": {
          "base_uri": "https://localhost:8080/"
        },
        "id": "OzMdT0DlKZFF",
        "outputId": "0227293f-5bec-45e9-acf8-a237b2da5d2f"
      },
      "outputs": [
        {
          "name": "stdout",
          "output_type": "stream",
          "text": [
            "Training started\n",
            "Training finished\n",
            "J and H produced\n"
          ]
        }
      ],
      "source": [
        "#Perform the training using the downloaded reference data\n",
        "pymb.training(nproc=4,lambda_h=100,lambda_J=100)"
      ]
    },
    {
      "cell_type": "code",
      "execution_count": 8,
      "metadata": {
        "colab": {
          "base_uri": "https://localhost:8080/"
        },
        "id": "upeKBoMuKZIp",
        "outputId": "c994528c-02be-4ef9-a682-ebf57c42c5c4"
      },
      "outputs": [
        {
          "name": "stdout",
          "output_type": "stream",
          "text": [
            "Saving prediction in: ovary_GRCh38/predictions\n",
            "Predicting subcompartments for chromosome:  1\n",
            "Predicting subcompartments for chromosome:  2\n",
            "Predicting subcompartments for chromosome:  3\n",
            "Predicting subcompartments for chromosome:  4\n",
            "Predicting subcompartments for chromosome:  5\n",
            "Predicting subcompartments for chromosome:  6\n",
            "Predicting subcompartments for chromosome:  7\n",
            "Predicting subcompartments for chromosome:  8\n",
            "Predicting subcompartments for chromosome:  9\n",
            "Predicting subcompartments for chromosome:  10\n",
            "Predicting subcompartments for chromosome:  11\n",
            "Predicting subcompartments for chromosome:  12\n",
            "Predicting subcompartments for chromosome:  13\n",
            "Predicting subcompartments for chromosome:  14\n",
            "Predicting subcompartments for chromosome:  15\n",
            "Predicting subcompartments for chromosome:  16\n",
            "Predicting subcompartments for chromosome:  17\n",
            "Predicting subcompartments for chromosome:  18\n",
            "Predicting subcompartments for chromosome:  19\n",
            "Predicting subcompartments for chromosome:  20\n",
            "Predicting subcompartments for chromosome:  21\n",
            "Predicting subcompartments for chromosome:  22\n",
            "Predicting subcompartments for chromosome:  X\n",
            "Resolution: 50\n"
          ]
        }
      ],
      "source": [
        "# Predict subcompartments and compartments for all the chromosomes\n",
        "subcompartments,compartments=pymb.prediction_all_chrm(save_subcompartments=True,save_compartments=True)"
      ]
    },
    {
      "cell_type": "code",
      "execution_count": 9,
      "metadata": {
        "colab": {
          "base_uri": "https://localhost:8080/",
          "height": 647
        },
        "id": "5RVl8dMcNAPC",
        "outputId": "49d33d92-0c42-4e1d-8fd9-fd98efae6214"
      },
      "outputs": [
        {
          "data": {
            "text/plain": [
              "<BarContainer object of 3 artists>"
            ]
          },
          "execution_count": 9,
          "metadata": {},
          "output_type": "execute_result"
        },
        {
          "data": {
            "image/png": "[encoded data removed]",
            "text/plain": [
              "<Figure size 2000x800 with 2 Axes>"
            ]
          },
          "metadata": {},
          "output_type": "display_data"
        }
      ],
      "source": [
        "import matplotlib.pyplot as plt\n",
        "import numpy as np\n",
        "\n",
        "chr=1\n",
        "fig, axs = plt.subplots(1, 2,figsize=(20,8))\n",
        "\n",
        "#Check distribution of subcompartments\n",
        "types_pyME=subcompartments[chr]\n",
        "type_list, counts = np.unique(types_pyME,return_counts=True)\n",
        "axs[0].bar(type_list,counts/len(types_pyME))\n",
        "\n",
        "#Check distribution of compartments\n",
        "types_pyME=compartments[chr]\n",
        "type_list, counts = np.unique(types_pyME,return_counts=True)\n",
        "axs[1].bar(type_list,counts/len(types_pyME))"
      ]
    }
  ],
  "metadata": {
    "colab": {
      "collapsed_sections": [
        "2njqaczbJ9Cz"
      ],
      "provenance": []
    },
    "kernelspec": {
      "display_name": "Python 3",
      "name": "python3"
    },
    "language_info": {
      "name": "python"
    }
  },
  "nbformat": 4,
  "nbformat_minor": 0
}
