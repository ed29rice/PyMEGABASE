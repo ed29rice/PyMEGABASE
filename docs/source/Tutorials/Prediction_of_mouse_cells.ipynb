{
  "cells": [
    {
      "attachments": {},
      "cell_type": "markdown",
      "metadata": {},
      "source": [
        "# Prediction of annotations on mouse cells"
      ]
    },
    {
      "attachments": {},
      "cell_type": "markdown",
      "metadata": {
        "id": "cA1uVC_X2c7r"
      },
      "source": [
        "## Install dependecies and PyMEGABASE"
      ]
    },
    {
      "cell_type": "code",
      "execution_count": 1,
      "metadata": {
        "colab": {
          "base_uri": "https://localhost:8080/"
        },
        "id": "ULJMclFKIRQ4",
        "outputId": "939aaa75-41ef-428c-ccde-cfef6afcf3df"
      },
      "outputs": [
        {
          "data": {
            "text/plain": [
              "0"
            ]
          },
          "execution_count": 1,
          "metadata": {},
          "output_type": "execute_result"
        }
      ],
      "source": [
        "import os\n",
        "os.system('pip install -q glob2==0.7 requests pytest-shutil==1.7.0  pyBigWig==0.3.18 urllib3==1.26.14 tqdm==4.64.1 joblib==1.2.0 ipywidgets==8.0.4 biopython')\n",
        "os.system('pip install pydca --no-deps')\n",
        "os.system('pip install -i https://test.pypi.org/pypi/ --extra-index-url https://pypi.org/simple PyMEGABASE==1.0.13 --no-deps')\n"
      ]
    },
    {
      "attachments": {},
      "cell_type": "markdown",
      "metadata": {
        "id": "2njqaczbJ9Cz"
      },
      "source": [
        "Here we chose spleen sample as the target cell \n",
        "\n",
        "Only using histone modification Chip-Seq data"
      ]
    },
    {
      "cell_type": "code",
      "execution_count": null,
      "metadata": {
        "id": "J1Yy6Hb4IssT"
      },
      "outputs": [],
      "source": [
        "import PyMEGABASE as PYMB"
      ]
    },
    {
      "cell_type": "code",
      "execution_count": null,
      "metadata": {
        "colab": {
          "base_uri": "https://localhost:8080/"
        },
        "id": "mV4GXN_6InZM",
        "outputId": "b8b0b0c6-7957-46d3-b437-210f3de61cdb"
      },
      "outputs": [
        {
          "name": "stdout",
          "output_type": "stream",
          "text": [
            "    ****************************************************************************************    \n",
            "       **** *** *** *** *** *** *** *** PyMEGABASE-1.0.0 *** *** *** *** *** *** *** ****       \n",
            "       **** *** *** *** *** *** *** *** PyMEGABASE-1.0.0 *** *** *** *** *** *** *** ****       \n",
            "       **** *** *** *** *** *** *** *** PyMEGABASE-1.0.0 *** *** *** *** *** *** *** ****       \n",
            "    ****************************************************************************************    \n",
            "\n",
            "              The PyMEGABASE class performs the prediction of genomic annotations               \n",
            "              based on 1D data tracks of Chip-Seq and RNA-Seq. The input data is                \n",
            "                                obtained from ENCODE data base.                                 \n",
            "                          PyMEGABASE description is described in: TBD                           \n",
            "\n",
            "        This package is the product of contributions from a number of people, including:        \n",
            "                  Esteban Dodero-Rojas, Antonio Oliveira, Vinícius Contessoto,                  \n",
            "                                 Ryan Cheng, and, Jose Onuchic                                  \n",
            "                                        Rice University                                         \n",
            "\n",
            "    ****************************************************************************************    \n",
            "Selected cell line to predict: spleen\n",
            "Selected assembly: mm10\n",
            "Selected signal type: signal p-value\n",
            "Selected organism: mouse\n"
          ]
        }
      ],
      "source": [
        "#Initialize PyMEGABASE \n",
        "pym=PYMB.PyMEGABASE(cell_line='spleen', assembly='mm10', organism='mouse', signal_type='signal p-value',\n",
        "                    histones=True,tf=True,small_rna=True,total_rna=True,n_states=10,res=50,\n",
        "                    chromosome_sizes=[195471971,182113224,160039680,156508116,151834684,149736546,145441459,129401213,\n",
        "                    124595110,130694993,122082543,120129022,120421639,124902244,104043685,98207768,\n",
        "                    94987271,90702639,61431566,171031299]) "
      ]
    },
    {
      "cell_type": "code",
      "execution_count": null,
      "metadata": {
        "colab": {
          "base_uri": "https://localhost:8080/"
        },
        "id": "GVbAS86OI6-6",
        "outputId": "f2949c33-f3b8-4300-f20d-128608868b40"
      },
      "outputs": [
        {
          "name": "stdout",
          "output_type": "stream",
          "text": [
            "Number of replicas: 39\n"
          ]
        },
        {
          "name": "stderr",
          "output_type": "stream",
          "text": [
            "Process replicas: 100%|████████████████████████████████████████| 39/39 [01:53<00:00,  2.90s/it]\n"
          ]
        },
        {
          "name": "stdout",
          "output_type": "stream",
          "text": [
            "Experiments found in ENCODE for the selected cell line:\n",
            "CTCF\n",
            "H3K27ac\n",
            "H3K27me3\n",
            "H3K36me3\n",
            "H3K4me1\n",
            "H3K4me3\n",
            "POLR2A\n",
            "Predictions would use:  7  experiments\n"
          ]
        }
      ],
      "source": [
        "#Download data for the selected cell line from ENCODE\n",
        "pym.download_and_process_cell_line_data(nproc=10)"
      ]
    },
    {
      "cell_type": "code",
      "execution_count": null,
      "metadata": {
        "colab": {
          "base_uri": "https://localhost:8080/"
        },
        "id": "FU_2w1GGI9u3",
        "outputId": "91dbe9f5-7beb-4d0f-fd2b-7ec7519ba8d0"
      },
      "outputs": [
        {
          "name": "stdout",
          "output_type": "stream",
          "text": [
            "Number of replicas: 44\n"
          ]
        },
        {
          "name": "stderr",
          "output_type": "stream",
          "text": [
            "Process replicas: 100%|████████████████████████████████████████| 44/44 [03:21<00:00,  4.58s/it]\n"
          ]
        },
        {
          "name": "stdout",
          "output_type": "stream",
          "text": [
            "Prediction will use:\n",
            "CTCF-human\n",
            "H3K27ac-human\n",
            "H3K27me3-human\n",
            "H3K36me3-human\n",
            "H3K4me1-human\n",
            "H3K4me3-human\n",
            "POLR2A-human\n"
          ]
        }
      ],
      "source": [
        "#Download data for the reference cell line (GM12878) from ENCODE\n",
        "pym.download_and_process_ref_data(nproc=10)"
      ]
    },
    {
      "cell_type": "code",
      "execution_count": null,
      "metadata": {
        "colab": {
          "base_uri": "https://localhost:8080/"
        },
        "id": "PFSKCBxYI9zy",
        "outputId": "4af48115-5296-4e49-ab15-4ba3cdf02283"
      },
      "outputs": [
        {
          "name": "stdout",
          "output_type": "stream",
          "text": [
            "Not using H3K4me1  to predict\n",
            "Not using POLR2A  to predict\n",
            "Number of suitable experiments for prediction: 5\n",
            "To train the following experiments are used:\n",
            "CTCF\n",
            "H3K27ac\n",
            "H3K27me3\n",
            "H3K36me3\n",
            "H3K4me3\n"
          ]
        }
      ],
      "source": [
        "#Preprocess the downloaded data for tranining, filtering experiments with signal-to-noise ration different from GM12878-hg19 (training set)\n",
        "pym.training_set_up()"
      ]
    },
    {
      "cell_type": "code",
      "execution_count": null,
      "metadata": {
        "colab": {
          "base_uri": "https://localhost:8080/"
        },
        "id": "sHJJJ3ayI92g",
        "outputId": "79641dd9-e779-4e29-8249-e3811c764012"
      },
      "outputs": [
        {
          "name": "stdout",
          "output_type": "stream",
          "text": [
            "Training started\n",
            "Training finished\n",
            "J and H produced\n"
          ]
        }
      ],
      "source": [
        "#Perform the training using the downloaded reference data\n",
        "pym.training(nproc=8,lambda_h=100,lambda_J=100)"
      ]
    },
    {
      "cell_type": "code",
      "execution_count": null,
      "metadata": {
        "colab": {
          "base_uri": "https://localhost:8080/"
        },
        "id": "RMSZm4WtI94v",
        "outputId": "2844554b-d02b-481a-e304-71eee17f63d5"
      },
      "outputs": [
        {
          "name": "stdout",
          "output_type": "stream",
          "text": [
            "Saving prediction in: spleen_mm10/predictions\n",
            "Predicting subcompartments for chromosome:  1\n",
            "Predicting subcompartments for chromosome:  2\n",
            "Predicting subcompartments for chromosome:  3\n",
            "Predicting subcompartments for chromosome:  4\n",
            "Predicting subcompartments for chromosome:  5\n",
            "Predicting subcompartments for chromosome:  6\n",
            "Predicting subcompartments for chromosome:  7\n",
            "Predicting subcompartments for chromosome:  8\n",
            "Predicting subcompartments for chromosome:  9\n",
            "Predicting subcompartments for chromosome:  10\n",
            "Predicting subcompartments for chromosome:  11\n",
            "Predicting subcompartments for chromosome:  12\n",
            "Predicting subcompartments for chromosome:  13\n",
            "Predicting subcompartments for chromosome:  14\n",
            "Predicting subcompartments for chromosome:  15\n",
            "Predicting subcompartments for chromosome:  16\n",
            "Predicting subcompartments for chromosome:  17\n",
            "Predicting subcompartments for chromosome:  18\n",
            "Predicting subcompartments for chromosome:  19\n",
            "Predicting subcompartments for chromosome:  X\n",
            "Resolution: 50\n"
          ]
        }
      ],
      "source": [
        "# Predict subcompartments and compartments for all the chromosomes\n",
        "subcompartments,compartments=pym.prediction_all_chrm(save_subcompartments=True,save_compartments=True)"
      ]
    },
    {
      "cell_type": "code",
      "execution_count": null,
      "metadata": {
        "colab": {
          "base_uri": "https://localhost:8080/",
          "height": 482
        },
        "id": "JLqVAbadJUoH",
        "outputId": "b9f13228-7bb5-4e98-acd1-c66fbeaf127f"
      },
      "outputs": [
        {
          "data": {
            "text/plain": [
              "<BarContainer object of 3 artists>"
            ]
          },
          "execution_count": 18,
          "metadata": {},
          "output_type": "execute_result"
        },
        {
          "data": {
            "image/png": "[encoded data removed]",
            "text/plain": [
              "<Figure size 1440x576 with 2 Axes>"
            ]
          },
          "metadata": {
            "needs_background": "light"
          },
          "output_type": "display_data"
        }
      ],
      "source": [
        "import matplotlib.pyplot as plt\n",
        "import numpy as np\n",
        "\n",
        "chr=2\n",
        "fig, axs = plt.subplots(1, 2,figsize=(20,8))\n",
        "\n",
        "#Check distribution of subcompartments\n",
        "types_pyME=subcompartments[chr]\n",
        "type_list, counts = np.unique(types_pyME,return_counts=True)\n",
        "axs[0].bar(type_list,counts/len(types_pyME))\n",
        "\n",
        "#Check distribution of compartments\n",
        "types_pyME=compartments[chr]\n",
        "type_list, counts = np.unique(types_pyME,return_counts=True)\n",
        "axs[1].bar(type_list,counts/len(types_pyME))"
      ]
    }
  ],
  "metadata": {
    "colab": {
      "collapsed_sections": [
        "2njqaczbJ9Cz"
      ],
      "provenance": []
    },
    "kernelspec": {
      "display_name": "Python 3",
      "name": "python3"
    },
    "language_info": {
      "name": "python"
    }
  },
  "nbformat": 4,
  "nbformat_minor": 0
}
